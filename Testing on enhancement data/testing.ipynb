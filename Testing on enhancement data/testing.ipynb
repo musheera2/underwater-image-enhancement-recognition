{
 "cells": [
  {
   "cell_type": "code",
   "execution_count": 2,
   "metadata": {},
   "outputs": [],
   "source": [
    "from models import rescale_img,VGG19_model,AlexNet_model,InceptionV3_model,ResNet50_model,DenseNet201_model\n",
    "import numpy as np"
   ]
  },
  {
   "cell_type": "code",
   "execution_count": 17,
   "metadata": {},
   "outputs": [
    {
     "name": "stdout",
     "output_type": "stream",
     "text": [
      "Image Size: (700, 700, 3)\n",
      "Rescaled the image to --> (1, 128, 128, 3) \n"
     ]
    }
   ],
   "source": [
    "img_array = rescale_img(img_path=\"./test_images/Result.jpg\")\n",
    "img_array = img_array/255.0"
   ]
  },
  {
   "cell_type": "code",
   "execution_count": 8,
   "metadata": {},
   "outputs": [],
   "source": [
    "#load the models\n",
    "CATEGORIES=[\"Corals\", \"Crabs\", \"Dolphin\", \"Eel\", \"Jelly Fish\", \"Lobster\", \"Nudibranchs\", \"Octopus\", \"Penguin\", \"Puffers\", \"Sea Rays\", \"Sea Urchins\", \"Seahorse\", \"Seal\", \"Sharks\", \"Squid\", \"Starfish\", \"Turtle_Tortoise\", \"Whale\"]\n",
    "vgg19= VGG19_model()\n",
    "alexnet = AlexNet_model()\n",
    "inceptionv3 = InceptionV3_model()\n",
    "resnet50 = ResNet50_model()\n",
    "densenet = DenseNet201_model()\n"
   ]
  },
  {
   "cell_type": "code",
   "execution_count": 18,
   "metadata": {},
   "outputs": [
    {
     "name": "stdout",
     "output_type": "stream",
     "text": [
      "Model used------> VGG19_model : \n",
      "\n",
      "1/1 [==============================] - 0s 213ms/step\n",
      "[7]---> Octopus\n",
      "--------------------------------------------------\n",
      "Model used------> AlexNet Model : \n",
      "\n",
      "1/1 [==============================] - 0s 149ms/step\n",
      "[17]---> Turtle_Tortoise\n",
      "--------------------------------------------------\n",
      "Model used------> InceptionV3 Model : \n",
      "\n",
      "1/1 [==============================] - 0s 212ms/step\n",
      "[2]---> Dolphin\n",
      "--------------------------------------------------\n",
      "Model used------> DenseNet201 Model : \n",
      "\n",
      "1/1 [==============================] - 0s 293ms/step\n",
      "[2]---> Dolphin\n",
      "--------------------------------------------------\n",
      "Model used------> ResNet50 Model : \n",
      "\n",
      "1/1 [==============================] - 0s 215ms/step\n",
      "[17]---> Turtle_Tortoise\n",
      "--------------------------------------------------\n"
     ]
    }
   ],
   "source": [
    "for name, model in [vgg19,alexnet,inceptionv3,densenet,resnet50]:\n",
    "\n",
    "    print(f\"Model used------> {name} : \")\n",
    "    print()\n",
    "    sample_pred = model.predict(img_array)\n",
    "    sample_pred = np.argmax(sample_pred,axis=-1)\n",
    "    print(sample_pred,end=\"---> \")\n",
    "    print(CATEGORIES[sample_pred[0]])\n",
    "    print(\"-\"*50)\n",
    "\n",
    "\n"
   ]
  },
  {
   "cell_type": "code",
   "execution_count": null,
   "metadata": {},
   "outputs": [],
   "source": []
  },
  {
   "cell_type": "code",
   "execution_count": null,
   "metadata": {},
   "outputs": [],
   "source": []
  }
 ],
 "metadata": {
  "kernelspec": {
   "display_name": "yolo",
   "language": "python",
   "name": "python3"
  },
  "language_info": {
   "codemirror_mode": {
    "name": "ipython",
    "version": 3
   },
   "file_extension": ".py",
   "mimetype": "text/x-python",
   "name": "python",
   "nbconvert_exporter": "python",
   "pygments_lexer": "ipython3",
   "version": "3.8.16"
  },
  "orig_nbformat": 4,
  "vscode": {
   "interpreter": {
    "hash": "7a347ffadc02627587a13692858945f16994173fb17a0e849a86fd0dfdb1932f"
   }
  }
 },
 "nbformat": 4,
 "nbformat_minor": 2
}
